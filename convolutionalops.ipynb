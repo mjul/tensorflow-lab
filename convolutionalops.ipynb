{
 "cells": [
  {
   "cell_type": "heading",
   "metadata": {},
   "level": 1,
   "source": [
    "Convolutional Operations"
   ]
  },
  {
   "cell_type": "markdown",
   "metadata": {},
   "source": [
    "Strictly speaking, they are not convolutions but cross-correlations."
   ]
  },
  {
   "cell_type": "code",
   "execution_count": 2,
   "metadata": {
    "collapsed": true
   },
   "outputs": [],
   "source": [
    "import tensorflow as tf\n",
    "import numpy as np\n",
    "\n",
    "sess = tf.Session()\n",
    "sess.run(tf.global_variables_initializer())\n",
    "\n",
    "BATCH_SIZE = 1\n",
    "HEIGHT = 4\n",
    "WIDTH = 4\n",
    "CHANNELS = 1"
   ]
  },
  {
   "cell_type": "code",
   "execution_count": 3,
   "metadata": {},
   "outputs": [],
   "source": [
    "M = np.array([\n",
    "    [[[1], [2], [3], [4]],\n",
    "     [[0], [1], [2], [3]],\n",
    "     [[0], [0], [1], [2]],\n",
    "     [[0], [0], [0], [1]]]],\n",
    "    dtype=np.float32)"
   ]
  },
  {
   "cell_type": "markdown",
   "metadata": {},
   "source": [
    "Define some filters we can use for conv2d with the above matrix."
   ]
  },
  {
   "cell_type": "code",
   "execution_count": 3,
   "metadata": {},
   "outputs": [],
   "source": [
    "filter_diagonal = np.array(\n",
    "    [\n",
    "        [[[1]], [[0]]],\n",
    "        [[[0]], [[1]]]\n",
    "    ],\n",
    "    dtype=np.float32)\n",
    "\n",
    "filter_vertical = np.array(\n",
    "    [\n",
    "        [[[1]], [[-1]]],\n",
    "        [[[1]], [[-1]]]\n",
    "    ],\n",
    "    dtype=np.float32)"
   ]
  },
  {
   "cell_type": "heading",
   "metadata": {},
   "level": 2,
   "source": [
    "Filters in `conv2d`"
   ]
  },
  {
   "cell_type": "markdown",
   "metadata": {},
   "source": [
    "Now try `conv2d` on `M` with these filters:"
   ]
  },
  {
   "cell_type": "code",
   "execution_count": 11,
   "metadata": {},
   "outputs": [],
   "source": [
    "inputs_tf = tf.placeholder(tf.float32, shape=[BATCH_SIZE, HEIGHT, WIDTH, CHANNELS], name='input')\n",
    "outputs_tf = [tf.nn.conv2d(inputs_tf, filter=f, strides=[1, 2, 1, 1], padding='VALID')\n",
    "              for f in [filter_diagonal, filter_vertical]]\n",
    "\n",
    "a, b = sess.run(outputs_tf, {inputs_tf: M})"
   ]
  },
  {
   "cell_type": "code",
   "execution_count": 6,
   "metadata": {},
   "outputs": [
    {
     "data": {
      "text/plain": [
       "array([[[[ 2.],\n         [ 4.],\n         [ 6.]],\n\n        [[ 0.],\n         [ 0.],\n         [ 2.]]]], dtype=float32)"
      ]
     },
     "execution_count": 6,
     "metadata": {},
     "output_type": "execute_result"
    }
   ],
   "source": [
    "a"
   ]
  },
  {
   "cell_type": "code",
   "execution_count": 7,
   "metadata": {},
   "outputs": [
    {
     "data": {
      "text/plain": [
       "array([[[[-2.],\n         [-2.],\n         [-2.]],\n\n        [[ 0.],\n         [-1.],\n         [-2.]]]], dtype=float32)"
      ]
     },
     "execution_count": 7,
     "metadata": {},
     "output_type": "execute_result"
    }
   ],
   "source": [
    "b"
   ]
  },
  {
   "cell_type": "markdown",
   "metadata": {},
   "source": [
    "We see that the first filter (`filter_diagonal`) sums the diagonal of the 2x2 submatrices and the other one rewards values where the left side is positive and the right side is non-positive."
   ]
  },
  {
   "cell_type": "heading",
   "metadata": {},
   "level": 2,
   "source": [
    "Padding"
   ]
  },
  {
   "cell_type": "markdown",
   "metadata": {},
   "source": [
    "The `SAME` padding extends the input when we reach the edge.:"
   ]
  },
  {
   "cell_type": "code",
   "execution_count": 15,
   "metadata": {},
   "outputs": [
    {
     "data": {
      "text/plain": [
       "array([[[[ 2.],\n         [ 4.],\n         [ 6.],\n         [ 4.]],\n\n        [[ 0.],\n         [ 0.],\n         [ 2.],\n         [ 2.]]]], dtype=float32)"
      ]
     },
     "execution_count": 15,
     "metadata": {},
     "output_type": "execute_result"
    }
   ],
   "source": [
    "sess.run(tf.nn.conv2d(inputs_tf, filter=filter_diagonal, strides=[1, 2, 1, 1], padding='SAME'),\n",
    "         {inputs_tf: M})"
   ]
  },
  {
   "cell_type": "markdown",
   "metadata": {},
   "source": [
    "The `VALID` padding computes the valid submatrices only, stopping when we reach the inside edge:"
   ]
  },
  {
   "cell_type": "code",
   "execution_count": 16,
   "metadata": {},
   "outputs": [
    {
     "data": {
      "text/plain": [
       "array([[[[ 2.],\n         [ 4.],\n         [ 6.]],\n\n        [[ 0.],\n         [ 0.],\n         [ 2.]]]], dtype=float32)"
      ]
     },
     "execution_count": 16,
     "metadata": {},
     "output_type": "execute_result"
    }
   ],
   "source": [
    "sess.run(tf.nn.conv2d(inputs_tf, filter=filter_diagonal, strides=[1, 2, 1, 1], padding='VALID'),\n",
    "         {inputs_tf: M})"
   ]
  },
  {
   "cell_type": "code",
   "execution_count": null,
   "metadata": {},
   "outputs": [],
   "source": []
  }
 ],
 "metadata": {
  "kernelspec": {
   "display_name": "Python 2",
   "language": "python",
   "name": "python2"
  },
  "language_info": {
   "codemirror_mode": {
    "name": "ipython",
    "version": 2
   },
   "file_extension": ".py",
   "mimetype": "text/x-python",
   "name": "python",
   "nbconvert_exporter": "python",
   "pygments_lexer": "ipython2",
   "version": "2.7.6"
  }
 },
 "nbformat": 4,
 "nbformat_minor": 0
}
